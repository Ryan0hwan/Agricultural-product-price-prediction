{
 "cells": [
  {
   "cell_type": "code",
   "execution_count": 24,
   "id": "8ecc364d-76ba-43e6-96da-adc4f9cc7584",
   "metadata": {},
   "outputs": [],
   "source": [
    "import tensorflow as tf\n",
    "import numpy as np\n",
    "import pandas as pd\n",
    "import matplotlib.pyplot as plt\n",
    "from tensorflow.keras.models import Sequential\n",
    "from tensorflow.keras.layers import GRU, Dense, Dropout, SimpleRNN\n",
    "from keras.layers import Input\n",
    "from keras.optimizers import Adam"
   ]
  },
  {
   "cell_type": "markdown",
   "id": "93e17f3c-0b86-4bd2-84b6-01e0fe201356",
   "metadata": {},
   "source": [
    "# 1. 데이터 가져오기 및 분포 확인"
   ]
  },
  {
   "cell_type": "code",
   "execution_count": 2,
   "id": "f0d40b4b-1e92-45ae-9770-e6ece7eb1e9c",
   "metadata": {},
   "outputs": [
    {
     "data": {
      "text/html": [
       "<div>\n",
       "<style scoped>\n",
       "    .dataframe tbody tr th:only-of-type {\n",
       "        vertical-align: middle;\n",
       "    }\n",
       "\n",
       "    .dataframe tbody tr th {\n",
       "        vertical-align: top;\n",
       "    }\n",
       "\n",
       "    .dataframe thead th {\n",
       "        text-align: right;\n",
       "    }\n",
       "</style>\n",
       "<table border=\"1\" class=\"dataframe\">\n",
       "  <thead>\n",
       "    <tr style=\"text-align: right;\">\n",
       "      <th></th>\n",
       "      <th>month</th>\n",
       "      <th>exchangeRate</th>\n",
       "      <th>avgTemp</th>\n",
       "      <th>maxTemp</th>\n",
       "      <th>minTemp</th>\n",
       "      <th>rainfall</th>\n",
       "      <th>retailPrice</th>\n",
       "      <th>wholesalePrice</th>\n",
       "      <th>exportVolume</th>\n",
       "      <th>exportValue</th>\n",
       "      <th>importVolume</th>\n",
       "      <th>importValue</th>\n",
       "      <th>production</th>\n",
       "    </tr>\n",
       "  </thead>\n",
       "  <tbody>\n",
       "    <tr>\n",
       "      <th>0</th>\n",
       "      <td>14-Jan</td>\n",
       "      <td>1065.0</td>\n",
       "      <td>0.7</td>\n",
       "      <td>3.5</td>\n",
       "      <td>4.9</td>\n",
       "      <td>13.0</td>\n",
       "      <td>943</td>\n",
       "      <td>407.0</td>\n",
       "      <td>239150</td>\n",
       "      <td>268976921850</td>\n",
       "      <td>44000</td>\n",
       "      <td>23372490</td>\n",
       "      <td>211567000.0</td>\n",
       "    </tr>\n",
       "    <tr>\n",
       "      <th>1</th>\n",
       "      <td>14-Feb</td>\n",
       "      <td>1071.0</td>\n",
       "      <td>1.9</td>\n",
       "      <td>6.6</td>\n",
       "      <td>1.8</td>\n",
       "      <td>16.2</td>\n",
       "      <td>892</td>\n",
       "      <td>357.0</td>\n",
       "      <td>354935</td>\n",
       "      <td>210467565</td>\n",
       "      <td>0</td>\n",
       "      <td>0</td>\n",
       "      <td>211567000.0</td>\n",
       "    </tr>\n",
       "    <tr>\n",
       "      <th>2</th>\n",
       "      <td>14-Mar</td>\n",
       "      <td>1071.0</td>\n",
       "      <td>7.9</td>\n",
       "      <td>13.1</td>\n",
       "      <td>3.5</td>\n",
       "      <td>7.2</td>\n",
       "      <td>786</td>\n",
       "      <td>310.0</td>\n",
       "      <td>968363</td>\n",
       "      <td>497062881</td>\n",
       "      <td>0</td>\n",
       "      <td>0</td>\n",
       "      <td>211567000.0</td>\n",
       "    </tr>\n",
       "    <tr>\n",
       "      <th>3</th>\n",
       "      <td>14-Apr</td>\n",
       "      <td>1045.0</td>\n",
       "      <td>14.0</td>\n",
       "      <td>19.6</td>\n",
       "      <td>9.4</td>\n",
       "      <td>31.0</td>\n",
       "      <td>796</td>\n",
       "      <td>307.0</td>\n",
       "      <td>1525647</td>\n",
       "      <td>870870605</td>\n",
       "      <td>24000</td>\n",
       "      <td>12497155</td>\n",
       "      <td>211567000.0</td>\n",
       "    </tr>\n",
       "    <tr>\n",
       "      <th>4</th>\n",
       "      <td>14-May</td>\n",
       "      <td>1025.0</td>\n",
       "      <td>18.9</td>\n",
       "      <td>25.3</td>\n",
       "      <td>13.8</td>\n",
       "      <td>63.0</td>\n",
       "      <td>736</td>\n",
       "      <td>283.0</td>\n",
       "      <td>3135569</td>\n",
       "      <td>1669132550</td>\n",
       "      <td>0</td>\n",
       "      <td>0</td>\n",
       "      <td>211567000.0</td>\n",
       "    </tr>\n",
       "  </tbody>\n",
       "</table>\n",
       "</div>"
      ],
      "text/plain": [
       "    month  exchangeRate  avgTemp  maxTemp  minTemp  rainfall  retailPrice  \\\n",
       "0  14-Jan        1065.0      0.7      3.5      4.9      13.0          943   \n",
       "1  14-Feb        1071.0      1.9      6.6      1.8      16.2          892   \n",
       "2  14-Mar        1071.0      7.9     13.1      3.5       7.2          786   \n",
       "3  14-Apr        1045.0     14.0     19.6      9.4      31.0          796   \n",
       "4  14-May        1025.0     18.9     25.3     13.8      63.0          736   \n",
       "\n",
       "   wholesalePrice  exportVolume   exportValue  importVolume  importValue  \\\n",
       "0           407.0        239150  268976921850         44000     23372490   \n",
       "1           357.0        354935     210467565             0            0   \n",
       "2           310.0        968363     497062881             0            0   \n",
       "3           307.0       1525647     870870605         24000     12497155   \n",
       "4           283.0       3135569    1669132550             0            0   \n",
       "\n",
       "    production  \n",
       "0  211567000.0  \n",
       "1  211567000.0  \n",
       "2  211567000.0  \n",
       "3  211567000.0  \n",
       "4  211567000.0  "
      ]
     },
     "execution_count": 2,
     "metadata": {},
     "output_type": "execute_result"
    }
   ],
   "source": [
    "# 배추 데이터 가져오기\n",
    "raw_cabbage = pd.read_csv('C:/sa/cabbage.csv')\n",
    "\n",
    "# object 타입 쉼표 제거\n",
    "columns_to_convert = ['exchangeRate', 'retailPrice', 'wholesalePrice', 'exportVolume', 'exportValue', 'importVolume', 'importValue']\n",
    "for col in columns_to_convert:\n",
    "    raw_cabbage[col] = raw_cabbage[col].str.replace(',', '')\n",
    "\n",
    "# 숫자형으로 변환, 변환할 수 없는 값은 NaN으로 설정\n",
    "raw_cabbage[columns_to_convert] = raw_cabbage[columns_to_convert].apply(pd.to_numeric, errors='coerce')\n",
    "\n",
    "raw_cabbage.head()"
   ]
  },
  {
   "cell_type": "code",
   "execution_count": 3,
   "id": "3d1ab88d-f19e-4d2d-bd75-15a1036319fa",
   "metadata": {},
   "outputs": [
    {
     "data": {
      "image/png": "[encoded data removed]",
      "text/plain": [
       "<Figure size 900x400 with 1 Axes>"
      ]
     },
     "metadata": {},
     "output_type": "display_data"
    }
   ],
   "source": [
    "# 배추 분포 확인하기\n",
    "plt.figure(figsize = (9, 4))\n",
    "plt.title('CABBAGE PRICE')\n",
    "plt.ylabel('price(won)')\n",
    "plt.xlabel('period(month)')\n",
    "plt.grid()\n",
    "# x축을 12씩 표시, y축을 500단위로 표시\n",
    "plt.xticks(range(0, 121, 12))\n",
    "plt.yticks(range(0, 000, 500))\n",
    "\n",
    "# 이제 데이터 추가\n",
    "plt.plot(raw_cabbage['retailPrice'], label='retail', color='b')\n",
    "plt.legend(loc = 'best')\n",
    "# 출력\n",
    "plt.show()"
   ]
  },
  {
   "cell_type": "code",
   "execution_count": 4,
   "id": "2be6cd7b-9d03-4004-8c14-5478aa5a3653",
   "metadata": {},
   "outputs": [
    {
     "name": "stdout",
     "output_type": "stream",
     "text": [
      "rainfall <class 'str'>\n",
      "exportVolume <class 'str'>\n",
      "exportValue <class 'str'>\n",
      "importVolume <class 'str'>\n",
      "importValue <class 'str'>\n",
      "production <class 'str'>\n"
     ]
    }
   ],
   "source": [
    "# 최솟값이 0인 열이 있는지 확인\n",
    "for col in raw_cabbage.columns:\n",
    "\n",
    "    if raw_cabbage[col].min() == 0:\n",
    "        col_name = col\n",
    "        print(col_name, type(col_name))"
   ]
  },
  {
   "cell_type": "code",
   "execution_count": 5,
   "id": "1fc7e06b-d8d7-4f62-8d9d-26e89211a908",
   "metadata": {},
   "outputs": [
    {
     "name": "stdout",
     "output_type": "stream",
     "text": [
      "month: 0\n",
      "exchangeRate: 0\n",
      "avgTemp: 0\n",
      "maxTemp: 0\n",
      "minTemp: 0\n",
      "rainfall: 2\n",
      "retailPrice: 0\n",
      "wholesalePrice: 0\n",
      "exportVolume: 1\n",
      "exportValue: 1\n",
      "importVolume: 68\n",
      "importValue: 68\n",
      "production: 3\n"
     ]
    }
   ],
   "source": [
    "# 각 column에 0 몇개인지 확인\n",
    "for col in raw_cabbage.columns:\n",
    "\n",
    "    missing_rows = raw_cabbage.loc[raw_cabbage[col]==0].shape[0]\n",
    "    print(col + ': ' + str(missing_rows))"
   ]
  },
  {
   "cell_type": "code",
   "execution_count": 6,
   "id": "001ec668-c543-4fc3-a494-a466b3d796dd",
   "metadata": {},
   "outputs": [
    {
     "data": {
      "text/html": [
       "<div>\n",
       "<style scoped>\n",
       "    .dataframe tbody tr th:only-of-type {\n",
       "        vertical-align: middle;\n",
       "    }\n",
       "\n",
       "    .dataframe tbody tr th {\n",
       "        vertical-align: top;\n",
       "    }\n",
       "\n",
       "    .dataframe thead th {\n",
       "        text-align: right;\n",
       "    }\n",
       "</style>\n",
       "<table border=\"1\" class=\"dataframe\">\n",
       "  <thead>\n",
       "    <tr style=\"text-align: right;\">\n",
       "      <th></th>\n",
       "      <th>month</th>\n",
       "      <th>exchangeRate</th>\n",
       "      <th>avgTemp</th>\n",
       "      <th>maxTemp</th>\n",
       "      <th>minTemp</th>\n",
       "      <th>rainfall</th>\n",
       "      <th>retailPrice</th>\n",
       "      <th>wholesalePrice</th>\n",
       "      <th>exportVolume</th>\n",
       "      <th>exportValue</th>\n",
       "      <th>importVolume</th>\n",
       "      <th>importValue</th>\n",
       "      <th>production</th>\n",
       "    </tr>\n",
       "  </thead>\n",
       "  <tbody>\n",
       "    <tr>\n",
       "      <th>1</th>\n",
       "      <td>14-Feb</td>\n",
       "      <td>1071.00</td>\n",
       "      <td>1.9</td>\n",
       "      <td>6.6</td>\n",
       "      <td>1.8</td>\n",
       "      <td>16.2</td>\n",
       "      <td>892</td>\n",
       "      <td>357.0</td>\n",
       "      <td>354935</td>\n",
       "      <td>210467565</td>\n",
       "      <td>0</td>\n",
       "      <td>0</td>\n",
       "      <td>211567000.0</td>\n",
       "    </tr>\n",
       "    <tr>\n",
       "      <th>2</th>\n",
       "      <td>14-Mar</td>\n",
       "      <td>1071.00</td>\n",
       "      <td>7.9</td>\n",
       "      <td>13.1</td>\n",
       "      <td>3.5</td>\n",
       "      <td>7.2</td>\n",
       "      <td>786</td>\n",
       "      <td>310.0</td>\n",
       "      <td>968363</td>\n",
       "      <td>497062881</td>\n",
       "      <td>0</td>\n",
       "      <td>0</td>\n",
       "      <td>211567000.0</td>\n",
       "    </tr>\n",
       "    <tr>\n",
       "      <th>4</th>\n",
       "      <td>14-May</td>\n",
       "      <td>1025.00</td>\n",
       "      <td>18.9</td>\n",
       "      <td>25.3</td>\n",
       "      <td>13.8</td>\n",
       "      <td>63.0</td>\n",
       "      <td>736</td>\n",
       "      <td>283.0</td>\n",
       "      <td>3135569</td>\n",
       "      <td>1669132550</td>\n",
       "      <td>0</td>\n",
       "      <td>0</td>\n",
       "      <td>211567000.0</td>\n",
       "    </tr>\n",
       "    <tr>\n",
       "      <th>6</th>\n",
       "      <td>14-Jul</td>\n",
       "      <td>1020.00</td>\n",
       "      <td>26.1</td>\n",
       "      <td>30.6</td>\n",
       "      <td>22.9</td>\n",
       "      <td>207.9</td>\n",
       "      <td>1060</td>\n",
       "      <td>639.0</td>\n",
       "      <td>576890</td>\n",
       "      <td>483739080</td>\n",
       "      <td>0</td>\n",
       "      <td>0</td>\n",
       "      <td>211567000.0</td>\n",
       "    </tr>\n",
       "    <tr>\n",
       "      <th>7</th>\n",
       "      <td>14-Aug</td>\n",
       "      <td>1025.00</td>\n",
       "      <td>25.2</td>\n",
       "      <td>29.0</td>\n",
       "      <td>22.1</td>\n",
       "      <td>172.8</td>\n",
       "      <td>1353</td>\n",
       "      <td>665.0</td>\n",
       "      <td>1144727</td>\n",
       "      <td>856513575</td>\n",
       "      <td>0</td>\n",
       "      <td>0</td>\n",
       "      <td>211567000.0</td>\n",
       "    </tr>\n",
       "    <tr>\n",
       "      <th>...</th>\n",
       "      <td>...</td>\n",
       "      <td>...</td>\n",
       "      <td>...</td>\n",
       "      <td>...</td>\n",
       "      <td>...</td>\n",
       "      <td>...</td>\n",
       "      <td>...</td>\n",
       "      <td>...</td>\n",
       "      <td>...</td>\n",
       "      <td>...</td>\n",
       "      <td>...</td>\n",
       "      <td>...</td>\n",
       "      <td>...</td>\n",
       "    </tr>\n",
       "    <tr>\n",
       "      <th>118</th>\n",
       "      <td>23-Nov</td>\n",
       "      <td>1310.00</td>\n",
       "      <td>6.8</td>\n",
       "      <td>11.5</td>\n",
       "      <td>2.9</td>\n",
       "      <td>81.9</td>\n",
       "      <td>1182</td>\n",
       "      <td>NaN</td>\n",
       "      <td>3566024</td>\n",
       "      <td>3103256380</td>\n",
       "      <td>0</td>\n",
       "      <td>0</td>\n",
       "      <td>103534000.0</td>\n",
       "    </tr>\n",
       "    <tr>\n",
       "      <th>119</th>\n",
       "      <td>23-Dec</td>\n",
       "      <td>1304.00</td>\n",
       "      <td>1.1</td>\n",
       "      <td>5.2</td>\n",
       "      <td>2.5</td>\n",
       "      <td>85.9</td>\n",
       "      <td>1208</td>\n",
       "      <td>NaN</td>\n",
       "      <td>1394899</td>\n",
       "      <td>1172582880</td>\n",
       "      <td>0</td>\n",
       "      <td>0</td>\n",
       "      <td>103534000.0</td>\n",
       "    </tr>\n",
       "    <tr>\n",
       "      <th>120</th>\n",
       "      <td>24-Jan</td>\n",
       "      <td>1323.57</td>\n",
       "      <td>0.5</td>\n",
       "      <td>3.6</td>\n",
       "      <td>3.9</td>\n",
       "      <td>18.9</td>\n",
       "      <td>1217</td>\n",
       "      <td>NaN</td>\n",
       "      <td>1534527</td>\n",
       "      <td>1295502375</td>\n",
       "      <td>0</td>\n",
       "      <td>0</td>\n",
       "      <td>0.0</td>\n",
       "    </tr>\n",
       "    <tr>\n",
       "      <th>121</th>\n",
       "      <td>24-Feb</td>\n",
       "      <td>1331.74</td>\n",
       "      <td>3.8</td>\n",
       "      <td>8.2</td>\n",
       "      <td>0.2</td>\n",
       "      <td>74.7</td>\n",
       "      <td>1383</td>\n",
       "      <td>NaN</td>\n",
       "      <td>584282</td>\n",
       "      <td>548206776</td>\n",
       "      <td>0</td>\n",
       "      <td>0</td>\n",
       "      <td>0.0</td>\n",
       "    </tr>\n",
       "    <tr>\n",
       "      <th>122</th>\n",
       "      <td>24-Mar</td>\n",
       "      <td>1330.70</td>\n",
       "      <td>6.8</td>\n",
       "      <td>11.7</td>\n",
       "      <td>2.4</td>\n",
       "      <td>29.9</td>\n",
       "      <td>1469</td>\n",
       "      <td>NaN</td>\n",
       "      <td>0</td>\n",
       "      <td>0</td>\n",
       "      <td>0</td>\n",
       "      <td>0</td>\n",
       "      <td>0.0</td>\n",
       "    </tr>\n",
       "  </tbody>\n",
       "</table>\n",
       "<p>70 rows × 13 columns</p>\n",
       "</div>"
      ],
      "text/plain": [
       "      month  exchangeRate  avgTemp  maxTemp  minTemp  rainfall  retailPrice  \\\n",
       "1    14-Feb       1071.00      1.9      6.6      1.8      16.2          892   \n",
       "2    14-Mar       1071.00      7.9     13.1      3.5       7.2          786   \n",
       "4    14-May       1025.00     18.9     25.3     13.8      63.0          736   \n",
       "6    14-Jul       1020.00     26.1     30.6     22.9     207.9         1060   \n",
       "7    14-Aug       1025.00     25.2     29.0     22.1     172.8         1353   \n",
       "..      ...           ...      ...      ...      ...       ...          ...   \n",
       "118  23-Nov       1310.00      6.8     11.5      2.9      81.9         1182   \n",
       "119  23-Dec       1304.00      1.1      5.2      2.5      85.9         1208   \n",
       "120  24-Jan       1323.57      0.5      3.6      3.9      18.9         1217   \n",
       "121  24-Feb       1331.74      3.8      8.2      0.2      74.7         1383   \n",
       "122  24-Mar       1330.70      6.8     11.7      2.4      29.9         1469   \n",
       "\n",
       "     wholesalePrice  exportVolume  exportValue  importVolume  importValue  \\\n",
       "1             357.0        354935    210467565             0            0   \n",
       "2             310.0        968363    497062881             0            0   \n",
       "4             283.0       3135569   1669132550             0            0   \n",
       "6             639.0        576890    483739080             0            0   \n",
       "7             665.0       1144727    856513575             0            0   \n",
       "..              ...           ...          ...           ...          ...   \n",
       "118             NaN       3566024   3103256380             0            0   \n",
       "119             NaN       1394899   1172582880             0            0   \n",
       "120             NaN       1534527   1295502375             0            0   \n",
       "121             NaN        584282    548206776             0            0   \n",
       "122             NaN             0            0             0            0   \n",
       "\n",
       "      production  \n",
       "1    211567000.0  \n",
       "2    211567000.0  \n",
       "4    211567000.0  \n",
       "6    211567000.0  \n",
       "7    211567000.0  \n",
       "..           ...  \n",
       "118  103534000.0  \n",
       "119  103534000.0  \n",
       "120          0.0  \n",
       "121          0.0  \n",
       "122          0.0  \n",
       "\n",
       "[70 rows x 13 columns]"
      ]
     },
     "execution_count": 6,
     "metadata": {},
     "output_type": "execute_result"
    }
   ],
   "source": [
    "# 최솟값이 0인 열의 행 출력\n",
    "raw_cabbage.loc[(raw_cabbage['rainfall'] == 0) | \n",
    "                (raw_cabbage['wholesalePrice'] == 0) |\n",
    "                (raw_cabbage['exportVolume'] == 0) | \n",
    "                (raw_cabbage['exportValue'] == 0) | \n",
    "                (raw_cabbage['importVolume'] == 0) | \n",
    "                (raw_cabbage['importValue'] == 0) | \n",
    "                (raw_cabbage['production'] == 0)]"
   ]
  },
  {
   "cell_type": "code",
   "execution_count": 7,
   "id": "37379987-6ed7-466b-aa45-8007dcdbac94",
   "metadata": {},
   "outputs": [
    {
     "name": "stdout",
     "output_type": "stream",
     "text": [
      "month: 0\n",
      "exchangeRate: 0\n",
      "avgTemp: 0\n",
      "maxTemp: 0\n",
      "minTemp: 0\n",
      "rainfall: 0\n",
      "retailPrice: 0\n",
      "wholesalePrice: 0\n",
      "exportVolume: 0\n",
      "exportValue: 0\n",
      "importVolume: 0\n",
      "importValue: 0\n",
      "production: 0\n"
     ]
    }
   ],
   "source": [
    "# 결측치 처리위해 0을 모두 NaN으로 대체\n",
    "raw_cabbage['rainfall'] = raw_cabbage['rainfall'].replace(0, np.nan)\n",
    "raw_cabbage['wholesalePrice'] = raw_cabbage['wholesalePrice'].replace(0, np.nan)\n",
    "raw_cabbage['exportVolume'] = raw_cabbage['exportVolume'].replace(0, np.nan)\n",
    "raw_cabbage['exportValue'] = raw_cabbage['exportValue'].replace(0, np.nan)\n",
    "raw_cabbage['importVolume'] = raw_cabbage['importVolume'].replace(0, np.nan)\n",
    "raw_cabbage['importValue'] = raw_cabbage['importValue'].replace(0, np.nan)\n",
    "raw_cabbage['production'] = raw_cabbage['production'].replace(0, np.nan)\n",
    "\n",
    "# NaN으로 잘 바뀌었나 확인\n",
    "for col in raw_cabbage.columns:\n",
    "    missing_rows = raw_cabbage.loc[raw_cabbage[col]==0].shape[0]    # 0의 수 계산\n",
    "    print(col + ': ' + str(missing_rows))"
   ]
  },
  {
   "cell_type": "code",
   "execution_count": 8,
   "id": "72eb2cab-4ef8-456a-8d37-b7b813cab9ab",
   "metadata": {},
   "outputs": [
    {
     "name": "stdout",
     "output_type": "stream",
     "text": [
      "month: 0\n",
      "exchangeRate: 0\n",
      "avgTemp: 0\n",
      "maxTemp: 0\n",
      "minTemp: 0\n",
      "rainfall: 0\n",
      "retailPrice: 0\n",
      "wholesalePrice: 0\n",
      "exportVolume: 0\n",
      "exportValue: 0\n",
      "production: 0\n"
     ]
    }
   ],
   "source": [
    "# 결측치의 개수가 적은 열은 평균값으로 대체\n",
    "raw_cabbage.loc[np.isnan(raw_cabbage.rainfall)==True, 'rainfall'] = raw_cabbage.rainfall.mean()\n",
    "raw_cabbage.loc[np.isnan(raw_cabbage.wholesalePrice)==True, 'wholesalePrice'] = raw_cabbage.wholesalePrice.mean()\n",
    "raw_cabbage.loc[np.isnan(raw_cabbage.exportVolume)==True, 'exportVolume'] = raw_cabbage.exportVolume.mean()\n",
    "raw_cabbage.loc[np.isnan(raw_cabbage.exportValue)==True, 'exportValue'] = raw_cabbage.exportValue.mean()\n",
    "raw_cabbage.loc[np.isnan(raw_cabbage.production)==True, 'production'] = raw_cabbage.production.mean()\n",
    "\n",
    "# 결측치의 개수가 많은 열은 삭제\n",
    "raw_cabbage.drop(columns=['importVolume'], inplace=True)\n",
    "raw_cabbage.drop(columns=['importValue'], inplace=True)\n",
    "\n",
    "# 결측치 제거가 잘 되었나 확인\n",
    "for col in raw_cabbage.columns:\n",
    "    missing_rows = raw_cabbage[col].isna().sum()     # NaN 값 개수 계산\n",
    "    print(col + ': ' + str(missing_rows))"
   ]
  },
  {
   "cell_type": "markdown",
   "id": "7c2b4bef-2234-4e96-95d6-1880a6d52692",
   "metadata": {},
   "source": [
    "### 정규화"
   ]
  },
  {
   "cell_type": "code",
   "execution_count": 9,
   "id": "22381ed3-af18-428f-8f59-c0a64d0fcf3d",
   "metadata": {},
   "outputs": [],
   "source": [
    "# 숫자로 표현되는 모든 column에 대해서 0~1로 정규화를 수행함.\n",
    "from sklearn.preprocessing import MinMaxScaler\n",
    "scaler = MinMaxScaler()\n",
    "\n",
    "# 정규화 해줄 열 지정 [열 삭제한 것 때문에, 3가지 케이스]\n",
    "scale_cols1 = ['exchangeRate', 'avgTemp', 'maxTemp', 'minTemp', 'rainfall', 'retailPrice', 'wholesalePrice', 'exportVolume', 'exportValue', 'production']\n",
    "\n",
    "# 정규화\n",
    "scaled_cabbage = scaler.fit_transform(raw_cabbage[scale_cols1])"
   ]
  },
  {
   "cell_type": "code",
   "execution_count": 10,
   "id": "1ab1a7c5-bd7d-4495-976f-e91ee933b124",
   "metadata": {},
   "outputs": [
    {
     "name": "stdout",
     "output_type": "stream",
     "text": [
      "     exchangeRate   avgTemp   maxTemp  minTemp  rainfall  retailPrice  \\\n",
      "0        0.112745  0.017483  0.102410    0.188  0.017786     0.059467   \n",
      "1        0.127451  0.059441  0.195783    0.064  0.022529     0.045161   \n",
      "2        0.127451  0.269231  0.391566    0.132  0.009189     0.015428   \n",
      "3        0.063725  0.482517  0.587349    0.368  0.044464     0.018233   \n",
      "4        0.014706  0.653846  0.759036    0.544  0.091893     0.001403   \n",
      "..            ...       ...       ...      ...       ...          ...   \n",
      "118      0.713235  0.230769  0.343373    0.108  0.119905     0.126508   \n",
      "119      0.698529  0.031469  0.153614    0.092  0.125834     0.133801   \n",
      "120      0.746495  0.010490  0.105422    0.148  0.026530     0.136325   \n",
      "121      0.766520  0.125874  0.243976    0.000  0.109234     0.182889   \n",
      "122      0.763971  0.230769  0.349398    0.088  0.042834     0.207013   \n",
      "\n",
      "     wholesalePrice  exportVolume  exportValue  production  \n",
      "0          0.044413      0.035241     1.000000    1.000000  \n",
      "1          0.026504      0.053155     0.000635    1.000000  \n",
      "2          0.009670      0.148064     0.001701    1.000000  \n",
      "3          0.008596      0.234286     0.003091    1.000000  \n",
      "4          0.000000      0.483371     0.006059    1.000000  \n",
      "..              ...           ...          ...         ...  \n",
      "118        0.191801      0.549971     0.011392    0.000000  \n",
      "119        0.191801      0.214057     0.004213    0.000000  \n",
      "120        0.191801      0.235660     0.004670    0.647337  \n",
      "121        0.191801      0.088639     0.001891    0.647337  \n",
      "122        0.191801      0.262174     0.012793    0.647337  \n",
      "\n",
      "[123 rows x 10 columns]\n"
     ]
    }
   ],
   "source": [
    "# numpy형태로 return된 것을 다시 pandas형태로\n",
    "scaled_cabbage = pd.DataFrame(scaled_cabbage, columns=scale_cols1)\n",
    "print(scaled_cabbage)"
   ]
  },
  {
   "cell_type": "code",
   "execution_count": 11,
   "id": "535f6892-05e7-48d8-9e00-b264e7fb2bce",
   "metadata": {},
   "outputs": [
    {
     "data": {
      "text/html": [
       "<div>\n",
       "<style scoped>\n",
       "    .dataframe tbody tr th:only-of-type {\n",
       "        vertical-align: middle;\n",
       "    }\n",
       "\n",
       "    .dataframe tbody tr th {\n",
       "        vertical-align: top;\n",
       "    }\n",
       "\n",
       "    .dataframe thead th {\n",
       "        text-align: right;\n",
       "    }\n",
       "</style>\n",
       "<table border=\"1\" class=\"dataframe\">\n",
       "  <thead>\n",
       "    <tr style=\"text-align: right;\">\n",
       "      <th></th>\n",
       "      <th>exchangeRate</th>\n",
       "      <th>avgTemp</th>\n",
       "      <th>maxTemp</th>\n",
       "      <th>minTemp</th>\n",
       "      <th>rainfall</th>\n",
       "      <th>retailPrice</th>\n",
       "      <th>wholesalePrice</th>\n",
       "      <th>exportVolume</th>\n",
       "      <th>exportValue</th>\n",
       "      <th>production</th>\n",
       "    </tr>\n",
       "  </thead>\n",
       "  <tbody>\n",
       "    <tr>\n",
       "      <th>count</th>\n",
       "      <td>123.000000</td>\n",
       "      <td>123.000000</td>\n",
       "      <td>123.000000</td>\n",
       "      <td>123.000000</td>\n",
       "      <td>123.000000</td>\n",
       "      <td>123.000000</td>\n",
       "      <td>123.000000</td>\n",
       "      <td>123.000000</td>\n",
       "      <td>123.000000</td>\n",
       "      <td>123.000000</td>\n",
       "    </tr>\n",
       "    <tr>\n",
       "      <th>mean</th>\n",
       "      <td>0.370596</td>\n",
       "      <td>0.470237</td>\n",
       "      <td>0.540479</td>\n",
       "      <td>0.441203</td>\n",
       "      <td>0.149629</td>\n",
       "      <td>0.230755</td>\n",
       "      <td>0.191801</td>\n",
       "      <td>0.262174</td>\n",
       "      <td>0.012793</td>\n",
       "      <td>0.647337</td>\n",
       "    </tr>\n",
       "    <tr>\n",
       "      <th>std</th>\n",
       "      <td>0.211120</td>\n",
       "      <td>0.328899</td>\n",
       "      <td>0.301806</td>\n",
       "      <td>0.311312</td>\n",
       "      <td>0.176637</td>\n",
       "      <td>0.171673</td>\n",
       "      <td>0.153654</td>\n",
       "      <td>0.216916</td>\n",
       "      <td>0.089823</td>\n",
       "      <td>0.274474</td>\n",
       "    </tr>\n",
       "    <tr>\n",
       "      <th>min</th>\n",
       "      <td>0.000000</td>\n",
       "      <td>0.000000</td>\n",
       "      <td>0.000000</td>\n",
       "      <td>0.000000</td>\n",
       "      <td>0.000000</td>\n",
       "      <td>0.000000</td>\n",
       "      <td>0.000000</td>\n",
       "      <td>0.000000</td>\n",
       "      <td>0.000000</td>\n",
       "      <td>0.000000</td>\n",
       "    </tr>\n",
       "    <tr>\n",
       "      <th>25%</th>\n",
       "      <td>0.235294</td>\n",
       "      <td>0.129371</td>\n",
       "      <td>0.239458</td>\n",
       "      <td>0.158000</td>\n",
       "      <td>0.035423</td>\n",
       "      <td>0.109537</td>\n",
       "      <td>0.098138</td>\n",
       "      <td>0.095014</td>\n",
       "      <td>0.001600</td>\n",
       "      <td>0.476164</td>\n",
       "    </tr>\n",
       "    <tr>\n",
       "      <th>50%</th>\n",
       "      <td>0.316176</td>\n",
       "      <td>0.486014</td>\n",
       "      <td>0.587349</td>\n",
       "      <td>0.368000</td>\n",
       "      <td>0.097228</td>\n",
       "      <td>0.208135</td>\n",
       "      <td>0.184814</td>\n",
       "      <td>0.219057</td>\n",
       "      <td>0.003875</td>\n",
       "      <td>0.688500</td>\n",
       "    </tr>\n",
       "    <tr>\n",
       "      <th>75%</th>\n",
       "      <td>0.457108</td>\n",
       "      <td>0.786713</td>\n",
       "      <td>0.828313</td>\n",
       "      <td>0.746000</td>\n",
       "      <td>0.192159</td>\n",
       "      <td>0.296634</td>\n",
       "      <td>0.239971</td>\n",
       "      <td>0.365762</td>\n",
       "      <td>0.007060</td>\n",
       "      <td>0.886718</td>\n",
       "    </tr>\n",
       "    <tr>\n",
       "      <th>max</th>\n",
       "      <td>1.000000</td>\n",
       "      <td>1.000000</td>\n",
       "      <td>1.000000</td>\n",
       "      <td>1.000000</td>\n",
       "      <td>1.000000</td>\n",
       "      <td>1.000000</td>\n",
       "      <td>1.000000</td>\n",
       "      <td>1.000000</td>\n",
       "      <td>1.000000</td>\n",
       "      <td>1.000000</td>\n",
       "    </tr>\n",
       "  </tbody>\n",
       "</table>\n",
       "</div>"
      ],
      "text/plain": [
       "       exchangeRate     avgTemp     maxTemp     minTemp    rainfall  \\\n",
       "count    123.000000  123.000000  123.000000  123.000000  123.000000   \n",
       "mean       0.370596    0.470237    0.540479    0.441203    0.149629   \n",
       "std        0.211120    0.328899    0.301806    0.311312    0.176637   \n",
       "min        0.000000    0.000000    0.000000    0.000000    0.000000   \n",
       "25%        0.235294    0.129371    0.239458    0.158000    0.035423   \n",
       "50%        0.316176    0.486014    0.587349    0.368000    0.097228   \n",
       "75%        0.457108    0.786713    0.828313    0.746000    0.192159   \n",
       "max        1.000000    1.000000    1.000000    1.000000    1.000000   \n",
       "\n",
       "       retailPrice  wholesalePrice  exportVolume  exportValue  production  \n",
       "count   123.000000      123.000000    123.000000   123.000000  123.000000  \n",
       "mean      0.230755        0.191801      0.262174     0.012793    0.647337  \n",
       "std       0.171673        0.153654      0.216916     0.089823    0.274474  \n",
       "min       0.000000        0.000000      0.000000     0.000000    0.000000  \n",
       "25%       0.109537        0.098138      0.095014     0.001600    0.476164  \n",
       "50%       0.208135        0.184814      0.219057     0.003875    0.688500  \n",
       "75%       0.296634        0.239971      0.365762     0.007060    0.886718  \n",
       "max       1.000000        1.000000      1.000000     1.000000    1.000000  "
      ]
     },
     "execution_count": 11,
     "metadata": {},
     "output_type": "execute_result"
    }
   ],
   "source": [
    "scaled_cabbage.describe()  # max값과 min값이 1과 0인 것을 확인. 정규화 잘됨. "
   ]
  },
  {
   "cell_type": "code",
   "execution_count": 12,
   "id": "76224a62-119c-4d14-982c-00dcdc64b971",
   "metadata": {},
   "outputs": [
    {
     "name": "stdout",
     "output_type": "stream",
     "text": [
      "--배추--\n",
      "(98, 9)\n",
      "(25, 9)\n",
      "(98, 1)\n",
      "(25, 1)\n",
      "(123, 10)\n"
     ]
    }
   ],
   "source": [
    "# 학습시킬 훈련데이터와 실험데이터. \n",
    "from sklearn.model_selection import train_test_split\n",
    "\n",
    "# 배추\n",
    "print(\"--배추--\")\n",
    "cabbage_X = scaled_cabbage[scaled_cabbage.columns.difference(['retailPrice'])]\n",
    "cabbage_Y = scaled_cabbage[['retailPrice']]\n",
    "cabbage_X_train, cabbage_X_test, cabbage_Y_train, cabbage_Y_test = train_test_split(cabbage_X, cabbage_Y, train_size=0.8, test_size=0.2)  # 임의로 사이즈 지정\n",
    "\n",
    "print(cabbage_X_train.shape); print(cabbage_X_test.shape)\n",
    "print(cabbage_Y_train.shape); print(cabbage_Y_test.shape)\n",
    "print(scaled_cabbage.shape)"
   ]
  },
  {
   "cell_type": "code",
   "execution_count": 13,
   "id": "468e21db-0985-40bd-afb4-3d5129cbfa0d",
   "metadata": {},
   "outputs": [
    {
     "name": "stdout",
     "output_type": "stream",
     "text": [
      "--------------배추---------------\n",
      "(98, 3)\n",
      "(25, 3)\n",
      "Selected names: Index(['exchangeRate', 'exportVolume', 'wholesalePrice'], dtype='object')\n",
      "Unselected names: Index(['avgTemp', 'exportValue', 'maxTemp', 'minTemp', 'production',\n",
      "       'rainfall'],\n",
      "      dtype='object')\n"
     ]
    }
   ],
   "source": [
    "from sklearn.feature_selection import f_regression, SelectKBest\n",
    "# selector 정의. retailPrice와 관련된 feature를 3개 고를 것.      \n",
    "selector = SelectKBest(score_func=f_regression, k=3)\n",
    "\n",
    "# 배추\n",
    "print(\"--------------배추---------------\")\n",
    "train_selected = selector.fit_transform(cabbage_X_train, cabbage_Y_train.values.ravel())\n",
    "test_selected = selector.transform(cabbage_X_test)\n",
    "print(train_selected.shape); print(test_selected.shape)\n",
    "\n",
    "all_names = cabbage_X_train.columns\n",
    "selected_mask = selector.get_support()\n",
    "\n",
    "# 선택된 feature, 선택되지 않은 feature\n",
    "selected_names = all_names[selected_mask]; unselected_names = all_names[~selected_mask]\n",
    "print('Selected names:',selected_names); print('Unselected names:',unselected_names)"
   ]
  },
  {
   "cell_type": "code",
   "execution_count": 14,
   "id": "aa5fde47-c59a-4870-a6a6-1feea9a9324c",
   "metadata": {},
   "outputs": [
    {
     "name": "stdout",
     "output_type": "stream",
     "text": [
      "--------배추---------\n",
      "(123, 3) (123, 1)\n"
     ]
    }
   ],
   "source": [
    "# 배추\n",
    "print(\"--------배추---------\")\n",
    "cabbage_feature_cols = ['exchangeRate', 'exportVolume', 'wholesalePrice']\n",
    "cabbage_label_cols = ['retailPrice']\n",
    "cabbage_feature_df = pd.DataFrame(scaled_cabbage, columns = cabbage_feature_cols)\n",
    "cabbage_label_df = pd.DataFrame(scaled_cabbage, columns = cabbage_label_cols)\n",
    "\n",
    "cabbage_feature_np = cabbage_feature_df.to_numpy()\n",
    "cabbage_label_np = cabbage_label_df.to_numpy()\n",
    "print(cabbage_feature_np.shape, cabbage_label_np.shape)"
   ]
  },
  {
   "cell_type": "markdown",
   "id": "bd9d382f-27ae-4f2c-ae9b-db1e5b26dd08",
   "metadata": {},
   "source": [
    "### 3. 시계열데이터 생성"
   ]
  },
  {
   "cell_type": "code",
   "execution_count": 15,
   "id": "21e68656-958c-4c82-bcbb-4e474d046020",
   "metadata": {},
   "outputs": [
    {
     "name": "stdout",
     "output_type": "stream",
     "text": [
      "(111, 12, 3) (111, 1)\n"
     ]
    }
   ],
   "source": [
    "window_size = 12    # 계절성을 띨 것으로 예상하고, window size를 12(12달)로 설정.\n",
    "horizon_factor = 1   # 바로 다음 달 가격 예측.\n",
    "\n",
    "def sequence_dataset(feature, label, window_size, horizon_factor):\n",
    "    feature_list = []    # 입력데이터 저장 리스트\n",
    "    label_list = []      # 정답 데이터 저장 리스트\n",
    "\n",
    "    for i in range(len(feature) - window_size - horizon_factor + 1):\n",
    "        feature_list.append(feature[i:i + window_size])\n",
    "        label_list.append(label[i + window_size + horizon_factor - 1])  # horizon_factor에 따라 label을 설정\n",
    "\n",
    "    return np.array(feature_list), np.array(label_list)  # 3차원 텐서 형태로 return\n",
    "\n",
    "cabbage_X, cabbage_Y = sequence_dataset(cabbage_feature_np, cabbage_label_np, window_size, horizon_factor)\n",
    "print(cabbage_X.shape, cabbage_Y.shape)    # (batch size, time steps, input dims) 형태의 3차원 tensor"
   ]
  },
  {
   "cell_type": "code",
   "execution_count": 16,
   "id": "8159ce79-0270-4b74-a9f7-684552e01215",
   "metadata": {},
   "outputs": [
    {
     "name": "stdout",
     "output_type": "stream",
     "text": [
      "(88, 12, 3) (88, 1)\n",
      "(23, 12, 3) (23, 1)\n"
     ]
    }
   ],
   "source": [
    "split = int(len(cabbage_X)*0.8)\n",
    "cabbage_x_train = cabbage_X[0:split]\n",
    "cabbage_y_train = cabbage_Y[0:split]\n",
    "cabbage_x_test = cabbage_X[split:]\n",
    "cabbage_y_test = cabbage_Y[split:]\n",
    "\n",
    "print(cabbage_x_train.shape, cabbage_y_train.shape)\n",
    "print(cabbage_x_test.shape, cabbage_y_test.shape)"
   ]
  },
  {
   "cell_type": "markdown",
   "id": "b4b2ea26-a2b4-4763-8c47-a5f3b13d875b",
   "metadata": {},
   "source": [
    "### 4. 모델 구축 및 학습 "
   ]
  },
  {
   "cell_type": "code",
   "execution_count": 29,
   "id": "6c983c88-faa2-4cca-8d02-c58933f81871",
   "metadata": {},
   "outputs": [],
   "source": [
    "model = Sequential()\n",
    "# 은닉층(뒤에 입력 형태 지정)\n",
    "model.add(GRU(50, return_sequences = True, activation = 'tanh', input_shape = cabbage_x_train[0].shape))\n",
    "\n",
    "# GRU 은닉층 추가 (dropout값 : 오버fitting문제 방지)\n",
    "model.add(GRU(50, activation='tanh', dropout = 0.01))\n",
    "\n",
    "# 출력층 추가\n",
    "model.add(Dense(1, activation='linear'))"
   ]
  },
  {
   "cell_type": "code",
   "execution_count": 30,
   "id": "a3f3f905-9634-44d4-88c9-d0d9b209989d",
   "metadata": {},
   "outputs": [
    {
     "data": {
      "text/html": [
       "<pre style=\"white-space:pre;overflow-x:auto;line-height:normal;font-family:Menlo,'DejaVu Sans Mono',consolas,'Courier New',monospace\"><span style=\"font-weight: bold\">Model: \"sequential_2\"</span>\n",
       "</pre>\n"
      ],
      "text/plain": [
       "\u001b[1mModel: \"sequential_2\"\u001b[0m\n"
      ]
     },
     "metadata": {},
     "output_type": "display_data"
    },
    {
     "data": {
      "text/html": [
       "<pre style=\"white-space:pre;overflow-x:auto;line-height:normal;font-family:Menlo,'DejaVu Sans Mono',consolas,'Courier New',monospace\">┏━━━━━━━━━━━━━━━━━━━━━━━━━━━━━━━━━━━━━━┳━━━━━━━━━━━━━━━━━━━━━━━━━━━━━┳━━━━━━━━━━━━━━━━━┓\n",
       "┃<span style=\"font-weight: bold\"> Layer (type)                         </span>┃<span style=\"font-weight: bold\"> Output Shape                </span>┃<span style=\"font-weight: bold\">         Param # </span>┃\n",
       "┡━━━━━━━━━━━━━━━━━━━━━━━━━━━━━━━━━━━━━━╇━━━━━━━━━━━━━━━━━━━━━━━━━━━━━╇━━━━━━━━━━━━━━━━━┩\n",
       "│ gru_3 (<span style=\"color: #0087ff; text-decoration-color: #0087ff\">GRU</span>)                          │ (<span style=\"color: #00d7ff; text-decoration-color: #00d7ff\">None</span>, <span style=\"color: #00af00; text-decoration-color: #00af00\">12</span>, <span style=\"color: #00af00; text-decoration-color: #00af00\">50</span>)              │           <span style=\"color: #00af00; text-decoration-color: #00af00\">8,250</span> │\n",
       "├──────────────────────────────────────┼─────────────────────────────┼─────────────────┤\n",
       "│ gru_4 (<span style=\"color: #0087ff; text-decoration-color: #0087ff\">GRU</span>)                          │ (<span style=\"color: #00d7ff; text-decoration-color: #00d7ff\">None</span>, <span style=\"color: #00af00; text-decoration-color: #00af00\">50</span>)                  │          <span style=\"color: #00af00; text-decoration-color: #00af00\">15,300</span> │\n",
       "├──────────────────────────────────────┼─────────────────────────────┼─────────────────┤\n",
       "│ dense_1 (<span style=\"color: #0087ff; text-decoration-color: #0087ff\">Dense</span>)                      │ (<span style=\"color: #00d7ff; text-decoration-color: #00d7ff\">None</span>, <span style=\"color: #00af00; text-decoration-color: #00af00\">1</span>)                   │              <span style=\"color: #00af00; text-decoration-color: #00af00\">51</span> │\n",
       "└──────────────────────────────────────┴─────────────────────────────┴─────────────────┘\n",
       "</pre>\n"
      ],
      "text/plain": [
       "┏━━━━━━━━━━━━━━━━━━━━━━━━━━━━━━━━━━━━━━┳━━━━━━━━━━━━━━━━━━━━━━━━━━━━━┳━━━━━━━━━━━━━━━━━┓\n",
       "┃\u001b[1m \u001b[0m\u001b[1mLayer (type)                        \u001b[0m\u001b[1m \u001b[0m┃\u001b[1m \u001b[0m\u001b[1mOutput Shape               \u001b[0m\u001b[1m \u001b[0m┃\u001b[1m \u001b[0m\u001b[1m        Param #\u001b[0m\u001b[1m \u001b[0m┃\n",
       "┡━━━━━━━━━━━━━━━━━━━━━━━━━━━━━━━━━━━━━━╇━━━━━━━━━━━━━━━━━━━━━━━━━━━━━╇━━━━━━━━━━━━━━━━━┩\n",
       "│ gru_3 (\u001b[38;5;33mGRU\u001b[0m)                          │ (\u001b[38;5;45mNone\u001b[0m, \u001b[38;5;34m12\u001b[0m, \u001b[38;5;34m50\u001b[0m)              │           \u001b[38;5;34m8,250\u001b[0m │\n",
       "├──────────────────────────────────────┼─────────────────────────────┼─────────────────┤\n",
       "│ gru_4 (\u001b[38;5;33mGRU\u001b[0m)                          │ (\u001b[38;5;45mNone\u001b[0m, \u001b[38;5;34m50\u001b[0m)                  │          \u001b[38;5;34m15,300\u001b[0m │\n",
       "├──────────────────────────────────────┼─────────────────────────────┼─────────────────┤\n",
       "│ dense_1 (\u001b[38;5;33mDense\u001b[0m)                      │ (\u001b[38;5;45mNone\u001b[0m, \u001b[38;5;34m1\u001b[0m)                   │              \u001b[38;5;34m51\u001b[0m │\n",
       "└──────────────────────────────────────┴─────────────────────────────┴─────────────────┘\n"
      ]
     },
     "metadata": {},
     "output_type": "display_data"
    },
    {
     "data": {
      "text/html": [
       "<pre style=\"white-space:pre;overflow-x:auto;line-height:normal;font-family:Menlo,'DejaVu Sans Mono',consolas,'Courier New',monospace\"><span style=\"font-weight: bold\"> Total params: </span><span style=\"color: #00af00; text-decoration-color: #00af00\">23,601</span> (92.19 KB)\n",
       "</pre>\n"
      ],
      "text/plain": [
       "\u001b[1m Total params: \u001b[0m\u001b[38;5;34m23,601\u001b[0m (92.19 KB)\n"
      ]
     },
     "metadata": {},
     "output_type": "display_data"
    },
    {
     "data": {
      "text/html": [
       "<pre style=\"white-space:pre;overflow-x:auto;line-height:normal;font-family:Menlo,'DejaVu Sans Mono',consolas,'Courier New',monospace\"><span style=\"font-weight: bold\"> Trainable params: </span><span style=\"color: #00af00; text-decoration-color: #00af00\">23,601</span> (92.19 KB)\n",
       "</pre>\n"
      ],
      "text/plain": [
       "\u001b[1m Trainable params: \u001b[0m\u001b[38;5;34m23,601\u001b[0m (92.19 KB)\n"
      ]
     },
     "metadata": {},
     "output_type": "display_data"
    },
    {
     "data": {
      "text/html": [
       "<pre style=\"white-space:pre;overflow-x:auto;line-height:normal;font-family:Menlo,'DejaVu Sans Mono',consolas,'Courier New',monospace\"><span style=\"font-weight: bold\"> Non-trainable params: </span><span style=\"color: #00af00; text-decoration-color: #00af00\">0</span> (0.00 B)\n",
       "</pre>\n"
      ],
      "text/plain": [
       "\u001b[1m Non-trainable params: \u001b[0m\u001b[38;5;34m0\u001b[0m (0.00 B)\n"
      ]
     },
     "metadata": {},
     "output_type": "display_data"
    }
   ],
   "source": [
    "# Adam 옵티마이저에 learning rate 설정\n",
    "adam_optimizer = Adam(learning_rate=0.001)\n",
    "\n",
    "model.compile(loss = 'mse', optimizer = 'adam', metrics = ['mae']) # mae : 오차절댓값\n",
    "model.summary()"
   ]
  },
  {
   "cell_type": "code",
   "execution_count": 34,
   "id": "45c12942-1649-4bbe-b6f9-93850a9ee080",
   "metadata": {
    "scrolled": true
   },
   "outputs": [
    {
     "name": "stdout",
     "output_type": "stream",
     "text": [
      "Epoch 1/41\n",
      "\u001b[1m24/24\u001b[0m \u001b[32m━━━━━━━━━━━━━━━━━━━━\u001b[0m\u001b[37m\u001b[0m \u001b[1m0s\u001b[0m 16ms/step - loss: 0.0074 - mae: 0.0689 - val_loss: 0.0104 - val_mae: 0.0741\n",
      "Epoch 2/41\n",
      "\u001b[1m24/24\u001b[0m \u001b[32m━━━━━━━━━━━━━━━━━━━━\u001b[0m\u001b[37m\u001b[0m \u001b[1m0s\u001b[0m 13ms/step - loss: 0.0154 - mae: 0.0993 - val_loss: 0.0068 - val_mae: 0.0682\n",
      "Epoch 3/41\n",
      "\u001b[1m24/24\u001b[0m \u001b[32m━━━━━━━━━━━━━━━━━━━━\u001b[0m\u001b[37m\u001b[0m \u001b[1m0s\u001b[0m 13ms/step - loss: 0.0095 - mae: 0.0704 - val_loss: 0.0062 - val_mae: 0.0647\n",
      "Epoch 4/41\n",
      "\u001b[1m24/24\u001b[0m \u001b[32m━━━━━━━━━━━━━━━━━━━━\u001b[0m\u001b[37m\u001b[0m \u001b[1m0s\u001b[0m 13ms/step - loss: 0.0077 - mae: 0.0702 - val_loss: 0.0084 - val_mae: 0.0720\n",
      "Epoch 5/41\n",
      "\u001b[1m24/24\u001b[0m \u001b[32m━━━━━━━━━━━━━━━━━━━━\u001b[0m\u001b[37m\u001b[0m \u001b[1m0s\u001b[0m 14ms/step - loss: 0.0080 - mae: 0.0700 - val_loss: 0.0096 - val_mae: 0.0730\n",
      "Epoch 6/41\n",
      "\u001b[1m24/24\u001b[0m \u001b[32m━━━━━━━━━━━━━━━━━━━━\u001b[0m\u001b[37m\u001b[0m \u001b[1m0s\u001b[0m 10ms/step - loss: 0.0075 - mae: 0.0703 - val_loss: 0.0080 - val_mae: 0.0712\n",
      "Epoch 7/41\n",
      "\u001b[1m24/24\u001b[0m \u001b[32m━━━━━━━━━━━━━━━━━━━━\u001b[0m\u001b[37m\u001b[0m \u001b[1m0s\u001b[0m 10ms/step - loss: 0.0073 - mae: 0.0653 - val_loss: 0.0075 - val_mae: 0.0731\n",
      "Epoch 8/41\n",
      "\u001b[1m24/24\u001b[0m \u001b[32m━━━━━━━━━━━━━━━━━━━━\u001b[0m\u001b[37m\u001b[0m \u001b[1m0s\u001b[0m 10ms/step - loss: 0.0058 - mae: 0.0571 - val_loss: 0.0084 - val_mae: 0.0706\n",
      "Epoch 9/41\n",
      "\u001b[1m24/24\u001b[0m \u001b[32m━━━━━━━━━━━━━━━━━━━━\u001b[0m\u001b[37m\u001b[0m \u001b[1m0s\u001b[0m 10ms/step - loss: 0.0076 - mae: 0.0719 - val_loss: 0.0071 - val_mae: 0.0651\n",
      "Epoch 10/41\n",
      "\u001b[1m24/24\u001b[0m \u001b[32m━━━━━━━━━━━━━━━━━━━━\u001b[0m\u001b[37m\u001b[0m \u001b[1m0s\u001b[0m 10ms/step - loss: 0.0065 - mae: 0.0619 - val_loss: 0.0076 - val_mae: 0.0722\n",
      "Epoch 11/41\n",
      "\u001b[1m24/24\u001b[0m \u001b[32m━━━━━━━━━━━━━━━━━━━━\u001b[0m\u001b[37m\u001b[0m \u001b[1m0s\u001b[0m 10ms/step - loss: 0.0075 - mae: 0.0712 - val_loss: 0.0078 - val_mae: 0.0686\n",
      "Epoch 12/41\n",
      "\u001b[1m24/24\u001b[0m \u001b[32m━━━━━━━━━━━━━━━━━━━━\u001b[0m\u001b[37m\u001b[0m \u001b[1m0s\u001b[0m 10ms/step - loss: 0.0058 - mae: 0.0617 - val_loss: 0.0075 - val_mae: 0.0722\n",
      "Epoch 13/41\n",
      "\u001b[1m24/24\u001b[0m \u001b[32m━━━━━━━━━━━━━━━━━━━━\u001b[0m\u001b[37m\u001b[0m \u001b[1m0s\u001b[0m 10ms/step - loss: 0.0046 - mae: 0.0543 - val_loss: 0.0068 - val_mae: 0.0688\n",
      "Epoch 14/41\n",
      "\u001b[1m24/24\u001b[0m \u001b[32m━━━━━━━━━━━━━━━━━━━━\u001b[0m\u001b[37m\u001b[0m \u001b[1m0s\u001b[0m 10ms/step - loss: 0.0049 - mae: 0.0579 - val_loss: 0.0084 - val_mae: 0.0743\n",
      "Epoch 15/41\n",
      "\u001b[1m24/24\u001b[0m \u001b[32m━━━━━━━━━━━━━━━━━━━━\u001b[0m\u001b[37m\u001b[0m \u001b[1m0s\u001b[0m 11ms/step - loss: 0.0082 - mae: 0.0731 - val_loss: 0.0066 - val_mae: 0.0669\n",
      "Epoch 16/41\n",
      "\u001b[1m24/24\u001b[0m \u001b[32m━━━━━━━━━━━━━━━━━━━━\u001b[0m\u001b[37m\u001b[0m \u001b[1m0s\u001b[0m 10ms/step - loss: 0.0042 - mae: 0.0523 - val_loss: 0.0081 - val_mae: 0.0748\n",
      "Epoch 17/41\n",
      "\u001b[1m24/24\u001b[0m \u001b[32m━━━━━━━━━━━━━━━━━━━━\u001b[0m\u001b[37m\u001b[0m \u001b[1m0s\u001b[0m 15ms/step - loss: 0.0048 - mae: 0.0559 - val_loss: 0.0071 - val_mae: 0.0718\n",
      "Epoch 18/41\n",
      "\u001b[1m24/24\u001b[0m \u001b[32m━━━━━━━━━━━━━━━━━━━━\u001b[0m\u001b[37m\u001b[0m \u001b[1m0s\u001b[0m 10ms/step - loss: 0.0063 - mae: 0.0606 - val_loss: 0.0075 - val_mae: 0.0729\n",
      "Epoch 19/41\n",
      "\u001b[1m24/24\u001b[0m \u001b[32m━━━━━━━━━━━━━━━━━━━━\u001b[0m\u001b[37m\u001b[0m \u001b[1m0s\u001b[0m 10ms/step - loss: 0.0059 - mae: 0.0591 - val_loss: 0.0077 - val_mae: 0.0734\n",
      "Epoch 20/41\n",
      "\u001b[1m24/24\u001b[0m \u001b[32m━━━━━━━━━━━━━━━━━━━━\u001b[0m\u001b[37m\u001b[0m \u001b[1m0s\u001b[0m 10ms/step - loss: 0.0054 - mae: 0.0601 - val_loss: 0.0067 - val_mae: 0.0699\n",
      "Epoch 21/41\n",
      "\u001b[1m24/24\u001b[0m \u001b[32m━━━━━━━━━━━━━━━━━━━━\u001b[0m\u001b[37m\u001b[0m \u001b[1m0s\u001b[0m 10ms/step - loss: 0.0053 - mae: 0.0576 - val_loss: 0.0092 - val_mae: 0.0783\n",
      "Epoch 22/41\n",
      "\u001b[1m24/24\u001b[0m \u001b[32m━━━━━━━━━━━━━━━━━━━━\u001b[0m\u001b[37m\u001b[0m \u001b[1m0s\u001b[0m 12ms/step - loss: 0.0045 - mae: 0.0527 - val_loss: 0.0078 - val_mae: 0.0750\n",
      "Epoch 23/41\n",
      "\u001b[1m24/24\u001b[0m \u001b[32m━━━━━━━━━━━━━━━━━━━━\u001b[0m\u001b[37m\u001b[0m \u001b[1m0s\u001b[0m 11ms/step - loss: 0.0036 - mae: 0.0462 - val_loss: 0.0095 - val_mae: 0.0805\n",
      "Epoch 24/41\n",
      "\u001b[1m24/24\u001b[0m \u001b[32m━━━━━━━━━━━━━━━━━━━━\u001b[0m\u001b[37m\u001b[0m \u001b[1m0s\u001b[0m 10ms/step - loss: 0.0044 - mae: 0.0534 - val_loss: 0.0153 - val_mae: 0.0954\n",
      "Epoch 25/41\n",
      "\u001b[1m24/24\u001b[0m \u001b[32m━━━━━━━━━━━━━━━━━━━━\u001b[0m\u001b[37m\u001b[0m \u001b[1m0s\u001b[0m 10ms/step - loss: 0.0055 - mae: 0.0550 - val_loss: 0.0074 - val_mae: 0.0655\n",
      "Epoch 26/41\n",
      "\u001b[1m24/24\u001b[0m \u001b[32m━━━━━━━━━━━━━━━━━━━━\u001b[0m\u001b[37m\u001b[0m \u001b[1m0s\u001b[0m 10ms/step - loss: 0.0067 - mae: 0.0650 - val_loss: 0.0076 - val_mae: 0.0696\n",
      "Epoch 27/41\n",
      "\u001b[1m24/24\u001b[0m \u001b[32m━━━━━━━━━━━━━━━━━━━━\u001b[0m\u001b[37m\u001b[0m \u001b[1m0s\u001b[0m 10ms/step - loss: 0.0044 - mae: 0.0490 - val_loss: 0.0081 - val_mae: 0.0764\n",
      "Epoch 28/41\n",
      "\u001b[1m24/24\u001b[0m \u001b[32m━━━━━━━━━━━━━━━━━━━━\u001b[0m\u001b[37m\u001b[0m \u001b[1m0s\u001b[0m 10ms/step - loss: 0.0046 - mae: 0.0559 - val_loss: 0.0084 - val_mae: 0.0777\n",
      "Epoch 29/41\n",
      "\u001b[1m24/24\u001b[0m \u001b[32m━━━━━━━━━━━━━━━━━━━━\u001b[0m\u001b[37m\u001b[0m \u001b[1m0s\u001b[0m 10ms/step - loss: 0.0039 - mae: 0.0491 - val_loss: 0.0098 - val_mae: 0.0785\n",
      "Epoch 30/41\n",
      "\u001b[1m24/24\u001b[0m \u001b[32m━━━━━━━━━━━━━━━━━━━━\u001b[0m\u001b[37m\u001b[0m \u001b[1m0s\u001b[0m 10ms/step - loss: 0.0056 - mae: 0.0594 - val_loss: 0.0088 - val_mae: 0.0817\n",
      "Epoch 31/41\n",
      "\u001b[1m24/24\u001b[0m \u001b[32m━━━━━━━━━━━━━━━━━━━━\u001b[0m\u001b[37m\u001b[0m \u001b[1m0s\u001b[0m 10ms/step - loss: 0.0032 - mae: 0.0445 - val_loss: 0.0089 - val_mae: 0.0784\n",
      "Epoch 32/41\n",
      "\u001b[1m24/24\u001b[0m \u001b[32m━━━━━━━━━━━━━━━━━━━━\u001b[0m\u001b[37m\u001b[0m \u001b[1m0s\u001b[0m 14ms/step - loss: 0.0038 - mae: 0.0500 - val_loss: 0.0110 - val_mae: 0.0835\n",
      "Epoch 33/41\n",
      "\u001b[1m24/24\u001b[0m \u001b[32m━━━━━━━━━━━━━━━━━━━━\u001b[0m\u001b[37m\u001b[0m \u001b[1m0s\u001b[0m 10ms/step - loss: 0.0040 - mae: 0.0497 - val_loss: 0.0104 - val_mae: 0.0878\n",
      "Epoch 34/41\n",
      "\u001b[1m24/24\u001b[0m \u001b[32m━━━━━━━━━━━━━━━━━━━━\u001b[0m\u001b[37m\u001b[0m \u001b[1m0s\u001b[0m 10ms/step - loss: 0.0037 - mae: 0.0490 - val_loss: 0.0094 - val_mae: 0.0806\n",
      "Epoch 35/41\n",
      "\u001b[1m24/24\u001b[0m \u001b[32m━━━━━━━━━━━━━━━━━━━━\u001b[0m\u001b[37m\u001b[0m \u001b[1m0s\u001b[0m 10ms/step - loss: 0.0031 - mae: 0.0444 - val_loss: 0.0117 - val_mae: 0.0897\n",
      "Epoch 36/41\n",
      "\u001b[1m24/24\u001b[0m \u001b[32m━━━━━━━━━━━━━━━━━━━━\u001b[0m\u001b[37m\u001b[0m \u001b[1m0s\u001b[0m 10ms/step - loss: 0.0029 - mae: 0.0443 - val_loss: 0.0092 - val_mae: 0.0775\n",
      "Epoch 37/41\n",
      "\u001b[1m24/24\u001b[0m \u001b[32m━━━━━━━━━━━━━━━━━━━━\u001b[0m\u001b[37m\u001b[0m \u001b[1m0s\u001b[0m 10ms/step - loss: 0.0038 - mae: 0.0518 - val_loss: 0.0090 - val_mae: 0.0774\n",
      "Epoch 38/41\n",
      "\u001b[1m24/24\u001b[0m \u001b[32m━━━━━━━━━━━━━━━━━━━━\u001b[0m\u001b[37m\u001b[0m \u001b[1m0s\u001b[0m 10ms/step - loss: 0.0045 - mae: 0.0526 - val_loss: 0.0099 - val_mae: 0.0847\n",
      "Epoch 39/41\n",
      "\u001b[1m24/24\u001b[0m \u001b[32m━━━━━━━━━━━━━━━━━━━━\u001b[0m\u001b[37m\u001b[0m \u001b[1m0s\u001b[0m 10ms/step - loss: 0.0041 - mae: 0.0535 - val_loss: 0.0074 - val_mae: 0.0758\n",
      "Epoch 40/41\n",
      "\u001b[1m24/24\u001b[0m \u001b[32m━━━━━━━━━━━━━━━━━━━━\u001b[0m\u001b[37m\u001b[0m \u001b[1m0s\u001b[0m 11ms/step - loss: 0.0029 - mae: 0.0403 - val_loss: 0.0102 - val_mae: 0.0846\n",
      "Epoch 41/41\n",
      "\u001b[1m24/24\u001b[0m \u001b[32m━━━━━━━━━━━━━━━━━━━━\u001b[0m\u001b[37m\u001b[0m \u001b[1m0s\u001b[0m 10ms/step - loss: 0.0041 - mae: 0.0517 - val_loss: 0.0103 - val_mae: 0.0810\n"
     ]
    }
   ],
   "source": [
    "history = model.fit(cabbage_x_train, cabbage_y_train, \n",
    "                    epochs=41, batch_size=3, validation_split=0.2)     "
   ]
  },
  {
   "cell_type": "code",
   "execution_count": 35,
   "id": "662584f8-4807-49bd-bfdc-ea940c8f7c30",
   "metadata": {},
   "outputs": [
    {
     "name": "stdout",
     "output_type": "stream",
     "text": [
      "\u001b[1m1/1\u001b[0m \u001b[32m━━━━━━━━━━━━━━━━━━━━\u001b[0m\u001b[37m\u001b[0m \u001b[1m0s\u001b[0m 36ms/step - loss: 0.0472 - mae: 0.1492\n",
      "\u001b[1m1/1\u001b[0m \u001b[32m━━━━━━━━━━━━━━━━━━━━\u001b[0m\u001b[37m\u001b[0m \u001b[1m0s\u001b[0m 31ms/step\n",
      "MAPE 값: [0.71446145]\n"
     ]
    }
   ],
   "source": [
    "loss, mae = model.evaluate(cabbage_x_test, cabbage_y_test)\n",
    "pred = model.predict(cabbage_x_test)\n",
    "print(\"MAPE 값:\", sum(abs(cabbage_y_test-pred)/cabbage_y_test)/len(cabbage_x_test))"
   ]
  },
  {
   "cell_type": "code",
   "execution_count": 36,
   "id": "007f8660-0cd8-4c3b-a7a5-8ff3185d6cd2",
   "metadata": {},
   "outputs": [
    {
     "data": {
      "image/png": "[encoded data removed]",
      "text/plain": [
       "<Figure size 640x480 with 1 Axes>"
      ]
     },
     "metadata": {},
     "output_type": "display_data"
    }
   ],
   "source": [
    "x_range = range(len(cabbage_y_test))  # x축 범위를 테스트 데이터의 길이만큼\n",
    "plt.plot(x_range, cabbage_y_test[x_range], label='Actual')        # 실제값\n",
    "plt.plot(x_range, pred[x_range], label = 'Predicted')             # 예측값\n",
    "\n",
    "plt.ylabel('retail price')            # y축이름\n",
    "plt.xlabel('period')                  # x축이름\n",
    "plt.grid()                            # 격자 표시\n",
    "plt.legend(loc='best')                # 범례 표시\n",
    "\n",
    "plt.show()   "
   ]
  },
  {
   "cell_type": "code",
   "execution_count": null,
   "id": "200411d4-3742-4f30-ada8-830b9c540736",
   "metadata": {},
   "outputs": [],
   "source": []
  },
  {
   "cell_type": "code",
   "execution_count": null,
   "id": "a525ca29-fb97-4c71-afa2-acc89aa77586",
   "metadata": {},
   "outputs": [],
   "source": []
  }
 ],
 "metadata": {
  "kernelspec": {
   "display_name": "Python 3 (ipykernel)",
   "language": "python",
   "name": "python3"
  },
  "language_info": {
   "codemirror_mode": {
    "name": "ipython",
    "version": 3
   },
   "file_extension": ".py",
   "mimetype": "text/x-python",
   "name": "python",
   "nbconvert_exporter": "python",
   "pygments_lexer": "ipython3",
   "version": "3.12.2"
  }
 },
 "nbformat": 4,
 "nbformat_minor": 5
}
